{
 "cells": [
  {
   "cell_type": "code",
   "execution_count": 45,
   "metadata": {},
   "outputs": [],
   "source": [
    "def str_array2ints(strarray):\n",
    "    floats=[]\n",
    "    \n",
    "    for s in strarray:\n",
    "        s=s.split('-')\n",
    "#         print(s)\n",
    "        try:\n",
    "            f=[]\n",
    "            for i in s:\n",
    "                f.append(int(i))\n",
    "            floats.append(f)\n",
    "        except:\n",
    "            floats.append([np.nan])\n",
    "\n",
    "    return floats\n",
    "import pandas as pd\n",
    "import numpy as np\n",
    "import sys\n",
    "\n",
    "sys.path.append('..')\n",
    "from pickle_fns import *\n",
    "base_folder=r'D:\\Ameyem Office\\Projects\\Electric surveys\\Easwar files\\jalaun\\\\'\n",
    "base_folder=r'D:\\Ameyem Office\\Projects\\Electric surveys\\Easwar files\\Mahoba\\\\'\n",
    "# vesdf,data_dfs=load_pkl(base_folder+'vesdf_datadf.pkl')\n",
    "# # vesdf,data_dfs=load_pkl('tikamgarh.pkl')\n",
    "# E,N,Ele=vesdf.Easting.values.astype(np.float),vesdf.Northing.values.astype(np.float),str_array2floats(vesdf.RL.values)\n",
    "# # Ele=[float(re.findall('\\d*\\.\\d+|\\d+',E)[0]) for E in Ele]\n",
    "\n",
    "fdf=pd.read_excel(base_folder+'recommendations-fracture info.xlsx')\n"
   ]
  },
  {
   "cell_type": "code",
   "execution_count": 35,
   "metadata": {},
   "outputs": [
    {
     "data": {
      "text/plain": [
       "(array([112, 113, 114, 115, 116, 117, 118, 119, 120, 121, 122, 123, 124,\n",
       "        125, 126, 127, 128, 129, 130, 131, 132, 133, 134, 135, 136, 137,\n",
       "        138, 139, 140, 141, 142, 143, 144, 145, 146, 147, 148, 149, 150,\n",
       "        151, 152, 153, 154, 155, 156, 157, 158, 159, 160, 161, 162, 163,\n",
       "        164, 165, 166, 167, 168, 169, 170, 171, 172, 173, 174, 175, 176,\n",
       "        177, 178, 179, 180, 181, 182, 183, 184, 185, 186, 187], dtype=int64),\n",
       " [[nan],\n",
       "  [nan],\n",
       "  [60, 70],\n",
       "  [nan],\n",
       "  [nan],\n",
       "  [60, 70],\n",
       "  [20, 25],\n",
       "  [nan],\n",
       "  [30, 35],\n",
       "  [30, 35],\n",
       "  [60, 70],\n",
       "  [25, 30],\n",
       "  [60],\n",
       "  [60],\n",
       "  [nan],\n",
       "  [nan],\n",
       "  [nan],\n",
       "  [60, 70],\n",
       "  [30, 40],\n",
       "  [nan],\n",
       "  [30, 35],\n",
       "  [nan],\n",
       "  [nan],\n",
       "  [60],\n",
       "  [30, 35],\n",
       "  [10],\n",
       "  [30, 35],\n",
       "  [30, 35],\n",
       "  [60, 70],\n",
       "  [30, 35],\n",
       "  [35, 40],\n",
       "  [32, 35],\n",
       "  [60, 70],\n",
       "  [30],\n",
       "  [60, 70],\n",
       "  [70, 80],\n",
       "  [20],\n",
       "  [70],\n",
       "  [30],\n",
       "  [nan],\n",
       "  [30],\n",
       "  [30],\n",
       "  [30],\n",
       "  [nan],\n",
       "  [nan],\n",
       "  [70],\n",
       "  [nan],\n",
       "  [70],\n",
       "  [100],\n",
       "  [80],\n",
       "  [60],\n",
       "  [30],\n",
       "  [30],\n",
       "  [30],\n",
       "  [10],\n",
       "  [nan],\n",
       "  [70],\n",
       "  [nan],\n",
       "  [70],\n",
       "  [53],\n",
       "  [70],\n",
       "  [80],\n",
       "  [70],\n",
       "  [70],\n",
       "  [30],\n",
       "  [30],\n",
       "  [nan],\n",
       "  [70],\n",
       "  [30],\n",
       "  [40],\n",
       "  [70],\n",
       "  [30],\n",
       "  [70],\n",
       "  [70],\n",
       "  [30],\n",
       "  [nan]],\n",
       " [[nan],\n",
       "  [nan],\n",
       "  [nan],\n",
       "  [nan],\n",
       "  [nan],\n",
       "  [nan],\n",
       "  [60, 70],\n",
       "  [nan],\n",
       "  [nan],\n",
       "  [nan],\n",
       "  [nan],\n",
       "  [60, 70],\n",
       "  [nan],\n",
       "  [nan],\n",
       "  [nan],\n",
       "  [nan],\n",
       "  [nan],\n",
       "  [nan],\n",
       "  [nan],\n",
       "  [nan],\n",
       "  [nan],\n",
       "  [nan],\n",
       "  [nan],\n",
       "  [nan],\n",
       "  [nan],\n",
       "  [30],\n",
       "  [nan],\n",
       "  [nan],\n",
       "  [nan],\n",
       "  [nan],\n",
       "  [nan],\n",
       "  [nan],\n",
       "  [nan],\n",
       "  [nan],\n",
       "  [nan],\n",
       "  [nan],\n",
       "  [70],\n",
       "  [100],\n",
       "  [100],\n",
       "  [nan],\n",
       "  [70],\n",
       "  [70],\n",
       "  [70],\n",
       "  [nan],\n",
       "  [nan],\n",
       "  [100],\n",
       "  [nan],\n",
       "  [nan],\n",
       "  [nan],\n",
       "  [nan],\n",
       "  [nan],\n",
       "  [70],\n",
       "  [70],\n",
       "  [70],\n",
       "  [30],\n",
       "  [nan],\n",
       "  [nan],\n",
       "  [nan],\n",
       "  [nan],\n",
       "  [nan],\n",
       "  [nan],\n",
       "  [nan],\n",
       "  [nan],\n",
       "  [nan],\n",
       "  [nan],\n",
       "  [nan],\n",
       "  [nan],\n",
       "  [nan],\n",
       "  [55],\n",
       "  [70],\n",
       "  [nan],\n",
       "  [70],\n",
       "  [120],\n",
       "  [120],\n",
       "  [70],\n",
       "  [nan]])"
      ]
     },
     "execution_count": 35,
     "metadata": {},
     "output_type": "execute_result"
    }
   ],
   "source": [
    "(ves,frac1,frac2)"
   ]
  },
  {
   "cell_type": "code",
   "execution_count": 39,
   "metadata": {},
   "outputs": [],
   "source": [
    "fdf[['Ves No','Fracture 1','Fracture 2']]\n",
    "frac1=np.array(str_array2ints(fdf['Fracture 1'].values.astype(str)))\n",
    "frac2=np.array(str_array2ints(fdf['Fracture 2'].values.astype(str)))\n",
    "ves=fdf['Ves No'].values.astype(str)\n",
    "# for s in fdf['Fracture 1'].values.astype(str):\n",
    "#     print(s.split('-'))\n",
    "np.save(base_folder+'fracture_info.npy',(ves,frac1,frac2))"
   ]
  },
  {
   "cell_type": "code",
   "execution_count": 44,
   "metadata": {},
   "outputs": [
    {
     "data": {
      "text/plain": [
       "True"
      ]
     },
     "execution_count": 44,
     "metadata": {},
     "output_type": "execute_result"
    }
   ],
   "source": [
    "(ves,frac1,frac2)\n",
    "np.isnan(frac1[0][0])"
   ]
  },
  {
   "cell_type": "code",
   "execution_count": null,
   "metadata": {},
   "outputs": [],
   "source": []
  },
  {
   "cell_type": "code",
   "execution_count": 103,
   "metadata": {},
   "outputs": [
    {
     "data": {
      "text/plain": [
       "Index(['VES NO', 'Easting', 'Northing', 'Fracture1', 'Fracture2'], dtype='object')"
      ]
     },
     "execution_count": 103,
     "metadata": {},
     "output_type": "execute_result"
    }
   ],
   "source": [
    "# fdf[[lables[0],lables[1],lables[2],l]].values\n",
    "newdf.columns"
   ]
  },
  {
   "cell_type": "code",
   "execution_count": 105,
   "metadata": {},
   "outputs": [],
   "source": [
    "fdf=pd.read_csv(base_folder+'ves fractures.csv')\n",
    "lables=fdf.columns\n",
    "newdf=fdf[[lables[0],lables[1],lables[2],lables[3]]].copy()\n",
    "for l in lables[4:]:\n",
    "    newdf=newdf.append(pd.DataFrame(fdf[[lables[0],lables[1],lables[2],l]].values,columns=newdf.columns))\n",
    "\n",
    "def get_fracdata(newdf,drange=(0,30)):\n",
    "    return newdf[ (newdf.Fracture1>drange[0]) & (newdf.Fracture1<=drange[1])]\n",
    "\n",
    "\n",
    "franges=[(0,30),(30,60),(60,90),(90,200)]"
   ]
  },
  {
   "cell_type": "code",
   "execution_count": 90,
   "metadata": {},
   "outputs": [],
   "source": [
    "fdf=pd.read_csv(base_folder+'ves fractures.csv')\n",
    "# fdf.values\n",
    "def iwd_point(x,y,v,xy,power=2):\n",
    "    distance = np.sqrt((x-xy[0])**2+(y-xy[1])**2)\n",
    "    if (distance**power).min()==0: \n",
    "        est = v[(distance**power).argmin()]\n",
    "    else:\n",
    "        total = np.sum(1/(distance**power))\n",
    "        est = np.sum(v/(distance**power)/total)\n",
    "    return est\n",
    "        "
   ]
  },
  {
   "cell_type": "code",
   "execution_count": 93,
   "metadata": {
    "collapsed": true
   },
   "outputs": [],
   "source": [
    "# vesdf,data_dfs=load_pkl(base_folder+'vesdf_datadf.pkl')\n",
    "zi=[]\n",
    "for x,y in zip(xi,yi):\n",
    "    zi.append(iwd_point(final_depths[:,0], final_depths[:,1], final_depths[:,i],(x,y),power=6))"
   ]
  },
  {
   "cell_type": "code",
   "execution_count": 95,
   "metadata": {},
   "outputs": [],
   "source": [
    "vesdf[['VES No.','Easting','Northing']].to_csv(base_folder+'vesdf_coords.csv')"
   ]
  }
 ],
 "metadata": {
  "kernelspec": {
   "display_name": "Python 3",
   "language": "python",
   "name": "python3"
  },
  "language_info": {
   "codemirror_mode": {
    "name": "ipython",
    "version": 3
   },
   "file_extension": ".py",
   "mimetype": "text/x-python",
   "name": "python",
   "nbconvert_exporter": "python",
   "pygments_lexer": "ipython3",
   "version": "3.6.1"
  }
 },
 "nbformat": 4,
 "nbformat_minor": 2
}

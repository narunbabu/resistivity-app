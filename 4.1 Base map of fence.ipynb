{
 "cells": [
  {
   "cell_type": "code",
   "execution_count": 19,
   "metadata": {},
   "outputs": [
    {
     "name": "stdout",
     "output_type": "stream",
     "text": [
      "['119', '128', '114', '124'] A-A\n",
      "['150', '160', '152', '158', '172', '170', '157'] B-B\n",
      "['154', '151', '163', '157', '168', '162', '161'] C-C\n",
      "['137', '135', '139', '143', '145', '148'] D-D\n",
      "['174', '178', '181', '176', '116'] E-E\n",
      "['185', '186', '176', '138', '183'] F-F\n",
      "['133', '131', '141', '145', '147', '132'] G-G\n",
      "['123', '121', '127', '126', '115', '128'] h-h\n",
      "['187', '184', '175', '146', '136', '148', '112', '122', '113', '158', '155', '164', '154'] i-i\n",
      "['117', '125', '121', '112', '132', '130', '165'] j-j\n",
      "['171'] k-k\n",
      "['119'] l-l\n",
      "['171', '166', '149', '167', '169'] m-m\n",
      "Tikamgarh\n"
     ]
    },
    {
     "data": {
      "image/png": "[encoded data removed]",
      "text/plain": [
       "<matplotlib.figure.Figure at 0x14e84aa4400>"
      ]
     },
     "metadata": {},
     "output_type": "display_data"
    },
    {
     "ename": "ValueError",
     "evalue": "Image size of 174234x155378 pixels is too large. It must be less than 2^16 in each direction.",
     "output_type": "error",
     "traceback": [
      "\u001b[1;31m---------------------------------------------------------------------------\u001b[0m",
      "\u001b[1;31mValueError\u001b[0m                                Traceback (most recent call last)",
      "\u001b[1;32mD:\\adiarun\\Anaconda3\\lib\\site-packages\\IPython\\core\\formatters.py\u001b[0m in \u001b[0;36m__call__\u001b[1;34m(self, obj)\u001b[0m\n\u001b[0;32m    305\u001b[0m                 \u001b[1;32mpass\u001b[0m\u001b[1;33m\u001b[0m\u001b[0m\n\u001b[0;32m    306\u001b[0m             \u001b[1;32melse\u001b[0m\u001b[1;33m:\u001b[0m\u001b[1;33m\u001b[0m\u001b[0m\n\u001b[1;32m--> 307\u001b[1;33m                 \u001b[1;32mreturn\u001b[0m \u001b[0mprinter\u001b[0m\u001b[1;33m(\u001b[0m\u001b[0mobj\u001b[0m\u001b[1;33m)\u001b[0m\u001b[1;33m\u001b[0m\u001b[0m\n\u001b[0m\u001b[0;32m    308\u001b[0m             \u001b[1;31m# Finally look for special method names\u001b[0m\u001b[1;33m\u001b[0m\u001b[1;33m\u001b[0m\u001b[0m\n\u001b[0;32m    309\u001b[0m             \u001b[0mmethod\u001b[0m \u001b[1;33m=\u001b[0m \u001b[0mget_real_method\u001b[0m\u001b[1;33m(\u001b[0m\u001b[0mobj\u001b[0m\u001b[1;33m,\u001b[0m \u001b[0mself\u001b[0m\u001b[1;33m.\u001b[0m\u001b[0mprint_method\u001b[0m\u001b[1;33m)\u001b[0m\u001b[1;33m\u001b[0m\u001b[0m\n",
      "\u001b[1;32mD:\\adiarun\\Anaconda3\\lib\\site-packages\\IPython\\core\\pylabtools.py\u001b[0m in \u001b[0;36m<lambda>\u001b[1;34m(fig)\u001b[0m\n\u001b[0;32m    238\u001b[0m \u001b[1;33m\u001b[0m\u001b[0m\n\u001b[0;32m    239\u001b[0m     \u001b[1;32mif\u001b[0m \u001b[1;34m'png'\u001b[0m \u001b[1;32min\u001b[0m \u001b[0mformats\u001b[0m\u001b[1;33m:\u001b[0m\u001b[1;33m\u001b[0m\u001b[0m\n\u001b[1;32m--> 240\u001b[1;33m         \u001b[0mpng_formatter\u001b[0m\u001b[1;33m.\u001b[0m\u001b[0mfor_type\u001b[0m\u001b[1;33m(\u001b[0m\u001b[0mFigure\u001b[0m\u001b[1;33m,\u001b[0m \u001b[1;32mlambda\u001b[0m \u001b[0mfig\u001b[0m\u001b[1;33m:\u001b[0m \u001b[0mprint_figure\u001b[0m\u001b[1;33m(\u001b[0m\u001b[0mfig\u001b[0m\u001b[1;33m,\u001b[0m \u001b[1;34m'png'\u001b[0m\u001b[1;33m,\u001b[0m \u001b[1;33m**\u001b[0m\u001b[0mkwargs\u001b[0m\u001b[1;33m)\u001b[0m\u001b[1;33m)\u001b[0m\u001b[1;33m\u001b[0m\u001b[0m\n\u001b[0m\u001b[0;32m    241\u001b[0m     \u001b[1;32mif\u001b[0m \u001b[1;34m'retina'\u001b[0m \u001b[1;32min\u001b[0m \u001b[0mformats\u001b[0m \u001b[1;32mor\u001b[0m \u001b[1;34m'png2x'\u001b[0m \u001b[1;32min\u001b[0m \u001b[0mformats\u001b[0m\u001b[1;33m:\u001b[0m\u001b[1;33m\u001b[0m\u001b[0m\n\u001b[0;32m    242\u001b[0m         \u001b[0mpng_formatter\u001b[0m\u001b[1;33m.\u001b[0m\u001b[0mfor_type\u001b[0m\u001b[1;33m(\u001b[0m\u001b[0mFigure\u001b[0m\u001b[1;33m,\u001b[0m \u001b[1;32mlambda\u001b[0m \u001b[0mfig\u001b[0m\u001b[1;33m:\u001b[0m \u001b[0mretina_figure\u001b[0m\u001b[1;33m(\u001b[0m\u001b[0mfig\u001b[0m\u001b[1;33m,\u001b[0m \u001b[1;33m**\u001b[0m\u001b[0mkwargs\u001b[0m\u001b[1;33m)\u001b[0m\u001b[1;33m)\u001b[0m\u001b[1;33m\u001b[0m\u001b[0m\n",
      "\u001b[1;32mD:\\adiarun\\Anaconda3\\lib\\site-packages\\IPython\\core\\pylabtools.py\u001b[0m in \u001b[0;36mprint_figure\u001b[1;34m(fig, fmt, bbox_inches, **kwargs)\u001b[0m\n\u001b[0;32m    122\u001b[0m \u001b[1;33m\u001b[0m\u001b[0m\n\u001b[0;32m    123\u001b[0m     \u001b[0mbytes_io\u001b[0m \u001b[1;33m=\u001b[0m \u001b[0mBytesIO\u001b[0m\u001b[1;33m(\u001b[0m\u001b[1;33m)\u001b[0m\u001b[1;33m\u001b[0m\u001b[0m\n\u001b[1;32m--> 124\u001b[1;33m     \u001b[0mfig\u001b[0m\u001b[1;33m.\u001b[0m\u001b[0mcanvas\u001b[0m\u001b[1;33m.\u001b[0m\u001b[0mprint_figure\u001b[0m\u001b[1;33m(\u001b[0m\u001b[0mbytes_io\u001b[0m\u001b[1;33m,\u001b[0m \u001b[1;33m**\u001b[0m\u001b[0mkw\u001b[0m\u001b[1;33m)\u001b[0m\u001b[1;33m\u001b[0m\u001b[0m\n\u001b[0m\u001b[0;32m    125\u001b[0m     \u001b[0mdata\u001b[0m \u001b[1;33m=\u001b[0m \u001b[0mbytes_io\u001b[0m\u001b[1;33m.\u001b[0m\u001b[0mgetvalue\u001b[0m\u001b[1;33m(\u001b[0m\u001b[1;33m)\u001b[0m\u001b[1;33m\u001b[0m\u001b[0m\n\u001b[0;32m    126\u001b[0m     \u001b[1;32mif\u001b[0m \u001b[0mfmt\u001b[0m \u001b[1;33m==\u001b[0m \u001b[1;34m'svg'\u001b[0m\u001b[1;33m:\u001b[0m\u001b[1;33m\u001b[0m\u001b[0m\n",
      "\u001b[1;32mD:\\adiarun\\Anaconda3\\lib\\site-packages\\matplotlib\\backend_bases.py\u001b[0m in \u001b[0;36mprint_figure\u001b[1;34m(self, filename, dpi, facecolor, edgecolor, orientation, format, **kwargs)\u001b[0m\n\u001b[0;32m   2250\u001b[0m                 \u001b[0morientation\u001b[0m\u001b[1;33m=\u001b[0m\u001b[0morientation\u001b[0m\u001b[1;33m,\u001b[0m\u001b[1;33m\u001b[0m\u001b[0m\n\u001b[0;32m   2251\u001b[0m                 \u001b[0mbbox_inches_restore\u001b[0m\u001b[1;33m=\u001b[0m\u001b[0m_bbox_inches_restore\u001b[0m\u001b[1;33m,\u001b[0m\u001b[1;33m\u001b[0m\u001b[0m\n\u001b[1;32m-> 2252\u001b[1;33m                 **kwargs)\n\u001b[0m\u001b[0;32m   2253\u001b[0m         \u001b[1;32mfinally\u001b[0m\u001b[1;33m:\u001b[0m\u001b[1;33m\u001b[0m\u001b[0m\n\u001b[0;32m   2254\u001b[0m             \u001b[1;32mif\u001b[0m \u001b[0mbbox_inches\u001b[0m \u001b[1;32mand\u001b[0m \u001b[0mrestore_bbox\u001b[0m\u001b[1;33m:\u001b[0m\u001b[1;33m\u001b[0m\u001b[0m\n",
      "\u001b[1;32mD:\\adiarun\\Anaconda3\\lib\\site-packages\\matplotlib\\backends\\backend_agg.py\u001b[0m in \u001b[0;36mprint_png\u001b[1;34m(self, filename_or_obj, *args, **kwargs)\u001b[0m\n\u001b[0;32m    543\u001b[0m \u001b[1;33m\u001b[0m\u001b[0m\n\u001b[0;32m    544\u001b[0m     \u001b[1;32mdef\u001b[0m \u001b[0mprint_png\u001b[0m\u001b[1;33m(\u001b[0m\u001b[0mself\u001b[0m\u001b[1;33m,\u001b[0m \u001b[0mfilename_or_obj\u001b[0m\u001b[1;33m,\u001b[0m \u001b[1;33m*\u001b[0m\u001b[0margs\u001b[0m\u001b[1;33m,\u001b[0m \u001b[1;33m**\u001b[0m\u001b[0mkwargs\u001b[0m\u001b[1;33m)\u001b[0m\u001b[1;33m:\u001b[0m\u001b[1;33m\u001b[0m\u001b[0m\n\u001b[1;32m--> 545\u001b[1;33m         \u001b[0mFigureCanvasAgg\u001b[0m\u001b[1;33m.\u001b[0m\u001b[0mdraw\u001b[0m\u001b[1;33m(\u001b[0m\u001b[0mself\u001b[0m\u001b[1;33m)\u001b[0m\u001b[1;33m\u001b[0m\u001b[0m\n\u001b[0m\u001b[0;32m    546\u001b[0m         \u001b[0mrenderer\u001b[0m \u001b[1;33m=\u001b[0m \u001b[0mself\u001b[0m\u001b[1;33m.\u001b[0m\u001b[0mget_renderer\u001b[0m\u001b[1;33m(\u001b[0m\u001b[1;33m)\u001b[0m\u001b[1;33m\u001b[0m\u001b[0m\n\u001b[0;32m    547\u001b[0m         \u001b[0moriginal_dpi\u001b[0m \u001b[1;33m=\u001b[0m \u001b[0mrenderer\u001b[0m\u001b[1;33m.\u001b[0m\u001b[0mdpi\u001b[0m\u001b[1;33m\u001b[0m\u001b[0m\n",
      "\u001b[1;32mD:\\adiarun\\Anaconda3\\lib\\site-packages\\matplotlib\\backends\\backend_agg.py\u001b[0m in \u001b[0;36mdraw\u001b[1;34m(self)\u001b[0m\n\u001b[0;32m    457\u001b[0m         \u001b[1;32mif\u001b[0m \u001b[0m__debug__\u001b[0m\u001b[1;33m:\u001b[0m \u001b[0mverbose\u001b[0m\u001b[1;33m.\u001b[0m\u001b[0mreport\u001b[0m\u001b[1;33m(\u001b[0m\u001b[1;34m'FigureCanvasAgg.draw'\u001b[0m\u001b[1;33m,\u001b[0m \u001b[1;34m'debug-annoying'\u001b[0m\u001b[1;33m)\u001b[0m\u001b[1;33m\u001b[0m\u001b[0m\n\u001b[0;32m    458\u001b[0m \u001b[1;33m\u001b[0m\u001b[0m\n\u001b[1;32m--> 459\u001b[1;33m         \u001b[0mself\u001b[0m\u001b[1;33m.\u001b[0m\u001b[0mrenderer\u001b[0m \u001b[1;33m=\u001b[0m \u001b[0mself\u001b[0m\u001b[1;33m.\u001b[0m\u001b[0mget_renderer\u001b[0m\u001b[1;33m(\u001b[0m\u001b[0mcleared\u001b[0m\u001b[1;33m=\u001b[0m\u001b[1;32mTrue\u001b[0m\u001b[1;33m)\u001b[0m\u001b[1;33m\u001b[0m\u001b[0m\n\u001b[0m\u001b[0;32m    460\u001b[0m         \u001b[1;31m# acquire a lock on the shared font cache\u001b[0m\u001b[1;33m\u001b[0m\u001b[1;33m\u001b[0m\u001b[0m\n\u001b[0;32m    461\u001b[0m         \u001b[0mRendererAgg\u001b[0m\u001b[1;33m.\u001b[0m\u001b[0mlock\u001b[0m\u001b[1;33m.\u001b[0m\u001b[0macquire\u001b[0m\u001b[1;33m(\u001b[0m\u001b[1;33m)\u001b[0m\u001b[1;33m\u001b[0m\u001b[0m\n",
      "\u001b[1;32mD:\\adiarun\\Anaconda3\\lib\\site-packages\\matplotlib\\backends\\backend_agg.py\u001b[0m in \u001b[0;36mget_renderer\u001b[1;34m(self, cleared)\u001b[0m\n\u001b[0;32m    474\u001b[0m \u001b[1;33m\u001b[0m\u001b[0m\n\u001b[0;32m    475\u001b[0m         \u001b[1;32mif\u001b[0m \u001b[0mneed_new_renderer\u001b[0m\u001b[1;33m:\u001b[0m\u001b[1;33m\u001b[0m\u001b[0m\n\u001b[1;32m--> 476\u001b[1;33m             \u001b[0mself\u001b[0m\u001b[1;33m.\u001b[0m\u001b[0mrenderer\u001b[0m \u001b[1;33m=\u001b[0m \u001b[0mRendererAgg\u001b[0m\u001b[1;33m(\u001b[0m\u001b[0mw\u001b[0m\u001b[1;33m,\u001b[0m \u001b[0mh\u001b[0m\u001b[1;33m,\u001b[0m \u001b[0mself\u001b[0m\u001b[1;33m.\u001b[0m\u001b[0mfigure\u001b[0m\u001b[1;33m.\u001b[0m\u001b[0mdpi\u001b[0m\u001b[1;33m)\u001b[0m\u001b[1;33m\u001b[0m\u001b[0m\n\u001b[0m\u001b[0;32m    477\u001b[0m             \u001b[0mself\u001b[0m\u001b[1;33m.\u001b[0m\u001b[0m_lastKey\u001b[0m \u001b[1;33m=\u001b[0m \u001b[0mkey\u001b[0m\u001b[1;33m\u001b[0m\u001b[0m\n\u001b[0;32m    478\u001b[0m         \u001b[1;32melif\u001b[0m \u001b[0mcleared\u001b[0m\u001b[1;33m:\u001b[0m\u001b[1;33m\u001b[0m\u001b[0m\n",
      "\u001b[1;32mD:\\adiarun\\Anaconda3\\lib\\site-packages\\matplotlib\\backends\\backend_agg.py\u001b[0m in \u001b[0;36m__init__\u001b[1;34m(self, width, height, dpi)\u001b[0m\n\u001b[0;32m     91\u001b[0m         \u001b[0mself\u001b[0m\u001b[1;33m.\u001b[0m\u001b[0mheight\u001b[0m \u001b[1;33m=\u001b[0m \u001b[0mheight\u001b[0m\u001b[1;33m\u001b[0m\u001b[0m\n\u001b[0;32m     92\u001b[0m         \u001b[1;32mif\u001b[0m \u001b[0m__debug__\u001b[0m\u001b[1;33m:\u001b[0m \u001b[0mverbose\u001b[0m\u001b[1;33m.\u001b[0m\u001b[0mreport\u001b[0m\u001b[1;33m(\u001b[0m\u001b[1;34m'RendererAgg.__init__ width=%s, height=%s'\u001b[0m\u001b[1;33m%\u001b[0m\u001b[1;33m(\u001b[0m\u001b[0mwidth\u001b[0m\u001b[1;33m,\u001b[0m \u001b[0mheight\u001b[0m\u001b[1;33m)\u001b[0m\u001b[1;33m,\u001b[0m \u001b[1;34m'debug-annoying'\u001b[0m\u001b[1;33m)\u001b[0m\u001b[1;33m\u001b[0m\u001b[0m\n\u001b[1;32m---> 93\u001b[1;33m         \u001b[0mself\u001b[0m\u001b[1;33m.\u001b[0m\u001b[0m_renderer\u001b[0m \u001b[1;33m=\u001b[0m \u001b[0m_RendererAgg\u001b[0m\u001b[1;33m(\u001b[0m\u001b[0mint\u001b[0m\u001b[1;33m(\u001b[0m\u001b[0mwidth\u001b[0m\u001b[1;33m)\u001b[0m\u001b[1;33m,\u001b[0m \u001b[0mint\u001b[0m\u001b[1;33m(\u001b[0m\u001b[0mheight\u001b[0m\u001b[1;33m)\u001b[0m\u001b[1;33m,\u001b[0m \u001b[0mdpi\u001b[0m\u001b[1;33m,\u001b[0m \u001b[0mdebug\u001b[0m\u001b[1;33m=\u001b[0m\u001b[1;32mFalse\u001b[0m\u001b[1;33m)\u001b[0m\u001b[1;33m\u001b[0m\u001b[0m\n\u001b[0m\u001b[0;32m     94\u001b[0m         \u001b[0mself\u001b[0m\u001b[1;33m.\u001b[0m\u001b[0m_filter_renderers\u001b[0m \u001b[1;33m=\u001b[0m \u001b[1;33m[\u001b[0m\u001b[1;33m]\u001b[0m\u001b[1;33m\u001b[0m\u001b[0m\n\u001b[0;32m     95\u001b[0m \u001b[1;33m\u001b[0m\u001b[0m\n",
      "\u001b[1;31mValueError\u001b[0m: Image size of 174234x155378 pixels is too large. It must be less than 2^16 in each direction."
     ]
    },
    {
     "data": {
      "text/plain": [
       "<matplotlib.figure.Figure at 0x14e886a8a20>"
      ]
     },
     "metadata": {},
     "output_type": "display_data"
    }
   ],
   "source": [
    "def get_sections():\n",
    "    profiles=load_pkl(base_folder+'profiles.pkl')\n",
    "    sections=[]\n",
    "    for profile in profiles:\n",
    "        sections.append([p[0] for p in profile])\n",
    "    return sections\n",
    "def design_crooked_section(loc_array,vesdf):\n",
    "    loc_coords=[]\n",
    "    for loc in loc_array:\n",
    "#         print(loc)\n",
    "        coords=vesdf[vesdf['VES No.']==str(loc)][['Easting','Northing']].values.astype(float)[0]\n",
    "#         print(coords)\n",
    "        loc_coords.append(coords)\n",
    "    return loc_coords\n",
    "\n",
    "def basemap_plot(vesdf,crooked_line,image_name):\n",
    "    file=\"D:\\AI-ML\\census\\IND_adm\\IND_adm2\"\n",
    "    map= Basemap()\n",
    "    shp_info=map.readshapefile(file, 'IND_adm2')\n",
    "    for info, lightning in zip(map.IND_adm2_info, map.IND_adm2):\n",
    "        if(info['NAME_2']=='Tikamgarh'):\n",
    "            print(info['NAME_2'])\n",
    "            x, y = zip(*lightning) \n",
    "            break\n",
    "    coords=np.array(lightning)\n",
    "\n",
    "    lonpt, latpt = map(coords[:,0],coords[:,1],inverse=True)\n",
    "    color_def={'top_soil':'#CCCCCC','high_weath_gr':'#FFFF80','weather_gran':'#ACACFF','granite':'#F07800',\n",
    "           'frac_granite':'#FF99CC','hard_granite':'#B00600','agranite':'#AF99Cd','final_granite':'#B006A0'}\n",
    "    facies_colors=[color_def[l] for l in color_def]\n",
    "    facies_colors.extend(['#CCCCCC', '#B00600', '#B006A0'])\n",
    "    # divfac=10\n",
    "\n",
    "#     vesdf,data_dfs=load_pkl('tikamgarh.pkl')\n",
    "    labels=['Block', 'Date', 'Direction of Schlumberger Array', 'Distt',  \n",
    "                   'Geology','Location', 'RL', 'VES No.', 'Water Table']\n",
    "    d4plots=vesdf['VES No.'].values\n",
    "    E,N= vesdf.Easting.values.astype(np.float),vesdf.Northing.values.astype(np.float)\n",
    "    divfac=4\n",
    "    lllon,urlon,lllat,urlat=np.floor(divfac*min(lonpt))/divfac,np.ceil(divfac*max(lonpt))/divfac,np.floor(divfac*min(latpt))/divfac,np.ceil(divfac*max(latpt))/divfac\n",
    "\n",
    "\n",
    "    fig=plt.figure(figsize=(12,12),dpi=80, facecolor='w', edgecolor='k')\n",
    "    map= Basemap(llcrnrlon=lllon,llcrnrlat=lllat,urcrnrlon=urlon,urcrnrlat=urlat,resolution = 'l', epsg=24379)\n",
    "    shp_info=map.readshapefile(file, 'IND_adm2')\n",
    "    ix,iy=map(x, y)\n",
    "    map.plot(ix, iy, marker=None,color='g')\n",
    "    i=1\n",
    "    for crooked_line in crooked_lines[0:2]:\n",
    "        cl=crooked_line.copy()\n",
    "        cl[:,0],cl[:,1]=map(crooked_line[:,0],crooked_line[:,1])\n",
    "        map.plot(cl[:,0],cl[:,1],facies_colors[i],linewidth=5) \n",
    "        i+=1\n",
    "    \n",
    "    No = len(coords[:,0])\n",
    "    area = 4 * np.ones(No)\n",
    "    px,py=map(E,N)\n",
    "    map.plot(cl[:,0],cl[:,1],'k',linewidth=5) \n",
    "\n",
    "    map.drawmapscale(78.50, 24.5, 0, 0, 40)\n",
    "    # map.drawarrow()\n",
    "    parallels =np.arange(24.2, 25.8,0.4)\n",
    "    # labels = [left,right,top,bottom]\n",
    "    map.drawparallels(parallels,labels=[False,True,True,False])\n",
    "    meridians =  np.arange(78.2, 79.6,0.4)\n",
    "    map.drawmeridians(meridians,labels=[True,False,False,True])\n",
    "    map.drawmapboundary(fill_color='#dFdFdF',linewidth=4.0)\n",
    "    plt.scatter(px,py,s=100, marker='o',c='r')\n",
    "    for i, txt in enumerate(d4plots):\n",
    "            plt.annotate(txt, (px[i]+1000, py[i]+100))\n",
    "    plt.show()\n",
    "    fig.savefig(image_name+'_bmap.png')\n",
    " \n",
    "# Modules and data loading\n",
    "import numpy as np\n",
    "import pandas as pd\n",
    "import pickle\n",
    "%matplotlib inline\n",
    "import matplotlib.pyplot as plt\n",
    "from mpl_toolkits.mplot3d import Axes3D\n",
    "from matplotlib import cm\n",
    "from mpl_toolkits.axes_grid1 import make_axes_locatable\n",
    "from matplotlib import gridspec\n",
    "import matplotlib.colors as colors\n",
    "from matplotlib.collections import PatchCollection\n",
    "from matplotlib.patches import  Polygon\n",
    "from mpl_toolkits.basemap import Basemap as Basemap\n",
    "\n",
    "import sys\n",
    "sys.path.append('..')\n",
    "from pickle_fns import *\n",
    "    \n",
    "base_folder=r'D:\\Ameyem Office\\Projects\\Electric surveys\\Easwar files\\Mahoba\\\\'\n",
    "crooked_lines=[]\n",
    "vesdf,data_dfs=load_pkl(base_folder+'vesdf_datadf.pkl')\n",
    "E,N,Ele=vesdf.Easting.values.astype(np.float),vesdf.Northing.values.astype(np.float),vesdf.RL.values.astype(np.float)\n",
    "\n",
    "sections=get_sections()\n",
    "sec_image_names=['A-A','B-B','C-C','D-D','E-E','F-F','G-G','h-h','i-i','j-j','k-k','l-l','m-m','n-n']\n",
    "\n",
    "for section,sec_name in zip(sections,sec_image_names):\n",
    "#     if i==1:\n",
    "        print(section,sec_name)\n",
    "        crooked_lines.append(np.array(design_crooked_section(section,vesdf)))\n",
    "basemap_plot(vesdf,crooked_lines,'basemap_of_fence')"
   ]
  },
  {
   "cell_type": "code",
   "execution_count": 16,
   "metadata": {},
   "outputs": [
    {
     "data": {
      "text/plain": [
       "[[array([ 79.80932,  25.40122]),\n",
       "  array([ 79.8442 ,  25.45128]),\n",
       "  array([ 79.85957,  25.48371]),\n",
       "  array([ 79.88867,  25.53184])],\n",
       " [array([ 79.71526,  25.1458 ]),\n",
       "  array([ 79.73988,  25.1923 ]),\n",
       "  array([ 79.80843,  25.27861]),\n",
       "  array([ 79.87275,  25.35814]),\n",
       "  array([ 79.94946,  25.42425]),\n",
       "  array([ 79.97585,  25.45289]),\n",
       "  array([ 80.00813,  25.47435])],\n",
       " [array([ 80.01745,  25.38146]),\n",
       "  array([ 80.01749,  25.39664]),\n",
       "  array([ 80.00646,  25.41491]),\n",
       "  array([ 80.00813,  25.47435]),\n",
       "  array([ 79.9866 ,  25.51054]),\n",
       "  array([ 79.9622 ,  25.55231]),\n",
       "  array([ 79.97214,  25.59369])],\n",
       " [array([ 79.48028,  25.10518]),\n",
       "  array([ 79.51404,  25.144  ]),\n",
       "  array([ 79.5399 ,  25.19305]),\n",
       "  array([ 79.56472,  25.23505]),\n",
       "  array([ 79.60027,  25.27384]),\n",
       "  array([ 79.62118,  25.33563])],\n",
       " [array([ 79.33486,  25.37241]),\n",
       "  array([ 79.41608,  25.41624]),\n",
       "  array([ 79.4512 ,  25.41689]),\n",
       "  array([ 79.52131,  25.42045]),\n",
       "  array([ 79.61991,  25.44475])],\n",
       " [array([ 79.39969,  25.50116]),\n",
       "  array([ 79.47601,  25.48049]),\n",
       "  array([ 79.52131,  25.42045]),\n",
       "  array([ 79.52412,  25.39152]),\n",
       "  array([ 79.53291,  25.34825])],\n",
       " [array([ 79.41721,  25.14761]),\n",
       "  array([ 79.45219,  25.19382]),\n",
       "  array([ 79.4711,  25.2155]),\n",
       "  array([ 79.60027,  25.27384]),\n",
       "  array([ 79.66066,  25.28515]),\n",
       "  array([ 79.6886 ,  25.31624])],\n",
       " [array([ 79.60247,  25.47527]),\n",
       "  array([ 79.67757,  25.4487 ]),\n",
       "  array([ 79.73772,  25.45297]),\n",
       "  array([ 79.78298,  25.46315]),\n",
       "  array([ 79.80996,  25.44046]),\n",
       "  array([ 79.8442 ,  25.45128])],\n",
       " [array([ 79.38804,  25.30394]),\n",
       "  array([ 79.42482,  25.31845]),\n",
       "  array([ 79.514,  25.332]),\n",
       "  array([ 79.56123,  25.32481]),\n",
       "  array([ 79.58491,  25.33229]),\n",
       "  array([ 79.62118,  25.33563]),\n",
       "  array([ 79.70821,  25.39074]),\n",
       "  array([ 79.76274,  25.36904]),\n",
       "  array([ 79.80574,  25.3638 ]),\n",
       "  array([ 79.87275,  25.35814]),\n",
       "  array([ 79.88922,  25.3438 ]),\n",
       "  array([ 79.92821,  25.3512 ]),\n",
       "  array([ 80.01745,  25.38146])],\n",
       " [array([ 79.71442,  25.51863]),\n",
       "  array([ 79.69702 ,  25.508554]),\n",
       "  array([ 79.67757,  25.4487 ]),\n",
       "  array([ 79.70821,  25.39074]),\n",
       "  array([ 79.6886 ,  25.31624]),\n",
       "  array([ 79.65565,  25.23715]),\n",
       "  array([ 79.64212,  25.15291])],\n",
       " [array([ 79.81432,  25.23371])],\n",
       " [array([ 79.80932,  25.40122])],\n",
       " [array([ 79.81432,  25.23371]),\n",
       "  array([ 79.88164,  25.25741]),\n",
       "  array([ 79.92649,  25.2707 ]),\n",
       "  array([ 79.94577,  25.29852]),\n",
       "  array([ 79.98303,  25.30725])]]"
      ]
     },
     "execution_count": 16,
     "metadata": {},
     "output_type": "execute_result"
    }
   ],
   "source": [
    "crooked_lines"
   ]
  },
  {
   "cell_type": "code",
   "execution_count": 14,
   "metadata": {},
   "outputs": [
    {
     "data": {
      "text/plain": [
       "array(['79.70821', '25.39074'], dtype=object)"
      ]
     },
     "execution_count": 14,
     "metadata": {},
     "output_type": "execute_result"
    }
   ],
   "source": [
    "loc='112'\n",
    "vesdf[vesdf['VES No.']==str(loc)][['Easting','Northing']].values[0]"
   ]
  }
 ],
 "metadata": {
  "kernelspec": {
   "display_name": "Python 3",
   "language": "python",
   "name": "python3"
  },
  "language_info": {
   "codemirror_mode": {
    "name": "ipython",
    "version": 3
   },
   "file_extension": ".py",
   "mimetype": "text/x-python",
   "name": "python",
   "nbconvert_exporter": "python",
   "pygments_lexer": "ipython3",
   "version": "3.6.1"
  }
 },
 "nbformat": 4,
 "nbformat_minor": 2
}

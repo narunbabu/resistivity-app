{
 "cells": [
  {
   "cell_type": "code",
   "execution_count": 10,
   "metadata": {
    "collapsed": true
   },
   "outputs": [],
   "source": [
    "# Computation of resistivity transform adapted from Koefoed (1970) by Ghosh (1971)\n",
    "def resistivityTransform(resistivities, thicknesses) :\n",
    "    # Number of layers (basement include):\n",
    "    nLayers = len(resistivities)\n",
    "    # Resistivity transforms:\n",
    "    RT = []\n",
    "#     RT.length = nSamples;\n",
    "    \n",
    "    T = []\n",
    "#     T.length = nSamples - 1;\n",
    "#     var index;\n",
    "    K = (resistivities[nLayers-1] - resistivities[nLayers -2])/(resistivities[nLayers-1] + resistivities[nLayers-2])\n",
    "    for i in range(nSamples):\n",
    "        index = 0;\n",
    "        \n",
    "        T.append( resistivities[nLayers-2] * (1 + K * np.exp(-2*thicknesses[nLayers-2]/OA[i]))/(1 - K * np.exp(-2*thicknesses[nLayers-2]/OA[i])))\n",
    "        for j in range(nLayers-3,-1,-1):\n",
    "            Tab = resistivities[j]*(1-np.exp(-2*thicknesses[j]/OA[i]))/(1+np.exp(-2*thicknesses[j]/OA[i]));\n",
    "#             index += 1;\n",
    "            T.append((Tab+T[-1])/(1+Tab*T[-1]/(resistivities[j]*resistivities[j])));\n",
    "        RT.append(T[-1]);\n",
    "    \n",
    "    return RT;\n"
   ]
  },
  {
   "cell_type": "code",
   "execution_count": 11,
   "metadata": {
    "collapsed": true
   },
   "outputs": [],
   "source": [
    "# // Compute apparent resistivity curve using Ghosh's linear filter.\n",
    "# // Ghosh, D.P., 1971, Inverse filter coefficients for the computation of apparent resistivity, Geophysical Prospecting 19, 769-775\n",
    "def ghoshFilter(resistivities, thicknesses):\n",
    "#     // Filter coefficients\n",
    "    b = [0.0225,-0.0499,0.1064,0.1854,1.9720,-1.5716,0.4018,-0.0814,0.0148]\n",
    "    \n",
    "#     // Compute resistivity transform\n",
    "    RT = resistivityTransform(resistivities, thicknesses);\n",
    "    \n",
    "#     // Compute apparent resistivities\n",
    "    apparentResisitivies = [];\n",
    "    apparentResisitivies = np.zeros(nSamples);\n",
    "    for i in range( 10,38):\n",
    "        apparentResisitivies[i] = 0;\n",
    "        for j in range(-3,6):\n",
    "            apparentResisitivies[i] += b[j+3]*RT[i-j*2]\n",
    "    return apparentResisitivies\n",
    "\n",
    "\n",
    "def getApparentResisityCurve(resistivities, thicknesses):\n",
    "    \n",
    "    appRes = ghoshFilter(resistivities, thicknesses);\n",
    "    \n",
    "    apparentResistivities = [];\n",
    "    halfSpacing = [];\n",
    "    \n",
    "    for i in range(13,36):\n",
    "        apparentResistivities.append(appRes[i]);\n",
    "        halfSpacing.append(OA[i]);\n",
    "    \n",
    "    \n",
    "    return halfSpacing, apparentResistivities;\n"
   ]
  },
  {
   "cell_type": "code",
   "execution_count": 13,
   "metadata": {},
   "outputs": [],
   "source": [
    "import numpy as np\n",
    "%matplotlib inline\n",
    "import matplotlib.pyplot as plt\n",
    "# Number of samples:\n",
    "nSamples = 44;\n",
    "# AB/2 spacing:\n",
    "OA =     [0.0139790406440197, 0.0205184256193513, 0.0301169300968417, 0.0442056079391693, 0.0648849589579011, 0.0952380952380952, 0.139790406440197, 0.205184256193513, 0.301169300968417, 0.442056079391693, 0.648849589579011, 0.952380952380952, 1.39790406440197, 2.05184256193513, 3.01169300968417, 4.42056079391693, 6.48849589579011, 9.52380952380952, 13.9790406440197, 20.5184256193513, 30.1169300968417, 44.2056079391693, 64.8849589579011, 95.2380952380952, 139.790406440197, 205.184256193513, 301.169300968417, 442.056079391693, 648.849589579011, 952.380952380952, 1397.90406440197, 2051.84256193513, 3011.69300968417, 4420.56079391693, 6488.49589579011, 9523.80952380952, 13979.0406440197, 20518.4256193513, 30116.9300968417, 44205.6079391693, 64884.9589579011, 95238.0952380952, 139790.406440197, 205184.256193513];\n",
    "\n"
   ]
  },
  {
   "cell_type": "code",
   "execution_count": 23,
   "metadata": {},
   "outputs": [
    {
     "data": {
      "text/plain": [
       "<matplotlib.text.Text at 0x1b8842f50b8>"
      ]
     },
     "execution_count": 23,
     "metadata": {},
     "output_type": "execute_result"
    },
    {
     "data": {
      "image/png": "[encoded data removed]",
      "text/plain": [
       "<matplotlib.figure.Figure at 0x1b883e18e48>"
      ]
     },
     "metadata": {},
     "output_type": "display_data"
    }
   ],
   "source": [
    "\n",
    "resistivities=[20,18,13,4500]\n",
    "thicknesses=[1.2,12,40]\n",
    "dist,ares=getApparentResisityCurve(resistivities, thicknesses)\n",
    "# plt.plot(dist,ares)\n",
    "plt.subplots_adjust(hspace=0.4)\n",
    "\n",
    "# log x and y axis\n",
    "plt.subplot(111)\n",
    "plt.loglog(dist,ares,'*', basex=10)\n",
    "plt.grid(True)\n",
    "plt.title('loglog ')"
   ]
  },
  {
   "cell_type": "code",
   "execution_count": 33,
   "metadata": {},
   "outputs": [
    {
     "data": {
      "text/plain": [
       "(0.38376418216567654, 1.4677992676220728, 0.38376418216567648)"
      ]
     },
     "execution_count": 33,
     "metadata": {},
     "output_type": "execute_result"
    }
   ],
   "source": [
    "y=np.diff(np.log(OA))[0]\n",
    "y\n",
    "u=np.exp(y)\n",
    "y,u,np.log(u)"
   ]
  }
 ],
 "metadata": {
  "kernelspec": {
   "display_name": "Python 3",
   "language": "python",
   "name": "python3"
  },
  "language_info": {
   "codemirror_mode": {
    "name": "ipython",
    "version": 3
   },
   "file_extension": ".py",
   "mimetype": "text/x-python",
   "name": "python",
   "nbconvert_exporter": "python",
   "pygments_lexer": "ipython3",
   "version": "3.6.1"
  }
 },
 "nbformat": 4,
 "nbformat_minor": 2
}

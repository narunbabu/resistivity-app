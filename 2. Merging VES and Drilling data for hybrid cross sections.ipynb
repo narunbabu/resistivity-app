{
 "cells": [
  {
   "cell_type": "code",
   "execution_count": 1,
   "metadata": {
    "collapsed": true
   },
   "outputs": [],
   "source": [
    "# Modules and data loading\n",
    "import numpy as np\n",
    "import pandas as pd\n",
    "import pickle\n",
    "%matplotlib inline\n",
    "import matplotlib.pyplot as plt\n",
    "from mpl_toolkits.mplot3d import Axes3D\n",
    "from matplotlib import cm\n",
    "from mpl_toolkits.axes_grid1 import make_axes_locatable\n",
    "from matplotlib import gridspec\n",
    "import matplotlib.colors as colors\n",
    "from matplotlib.collections import PatchCollection\n",
    "from matplotlib.patches import  Polygon\n",
    "from mpl_toolkits.basemap import Basemap as Basemap\n",
    "\n",
    "import sys\n",
    "sys.path.append('..')\n",
    "from pickle_fns import *\n",
    "import math\n",
    "from scipy.interpolate import griddata,interp2d\n",
    "from scipy import spatial\n",
    "from numpy import ones,vstack\n",
    "from numpy.linalg import lstsq"
   ]
  },
  {
   "cell_type": "code",
   "execution_count": 70,
   "metadata": {},
   "outputs": [],
   "source": [
    "base_folder=r'D:\\Ameyem Office\\Projects\\Electric surveys\\Easwar files\\Mahoba\\\\'\n",
    "\n",
    "# vesdf,data_dfs=load_pkl('tikamgarh.pkl')\n",
    "vesdf,data_dfs=load_pkl(base_folder+'vesdf_datadf.pkl')\n",
    "dvesdf,drill_dfs=load_pkl(base_folder+'dvesdf_datadf.pkl')\n",
    "E,N,Ele=vesdf.Easting.values.astype(np.float),vesdf.Northing.values.astype(np.float),vesdf.RL.values.astype(np.float)\n",
    "\n",
    "# ves,frac1,frac2=np.load(base_folder+'fracture_info.npy')\n",
    "\n",
    "# sections=get_sections()\n",
    "# sec_image_names=['A-A','B-B','C-C','D-D','E-E','F-F','G-G','h-h','i-i','j-j','k-k','l-l','m-m','n-n']\n",
    "# profile_name=['a','b','c','d','e','f','g','h','i','j','k','l','m']\n",
    "\n",
    "final_depths,unique_lbls,lith_dict_summay=np.load(base_folder+'final_depths_labes_summary.npy')\n",
    "dfinal_depths,dunique_lbls,dlith_dict_summay=np.load(base_folder+'dfinal_depths_labes_summary.npy')\n",
    "# final_depths,unique_lbls,lith_dict_summay\n",
    "# P=xy_final_depths[:,:]\n",
    "final_lbls=[u if u<10 else np.uint8(u/10) for u in unique_lbls]\n",
    "mvesdf=vesdf.copy()\n",
    "mdata_dfs=data_dfs.copy()\n",
    "merge_final_depths=final_depths.copy()"
   ]
  },
  {
   "cell_type": "code",
   "execution_count": 71,
   "metadata": {},
   "outputs": [
    {
     "name": "stdout",
     "output_type": "stream",
     "text": [
      "yes\n",
      "133 BAGHAURA\n",
      "yes\n",
      "116 GAURIHARI\n",
      "yes\n",
      "130 BAGWAHA\n",
      "yes\n",
      "178 BAINDO\n",
      "yes\n",
      "128 BAMHORI KALAN\n",
      "yes\n",
      "141 BHAGAURA-JAILWARA\n",
      "yes\n",
      "174 DHARWAR\n",
      "yes\n",
      "134 DHORRA\n",
      "yes\n",
      "121 GUDHA\n",
      "yes\n",
      "119 IMILIYA DANG\n",
      "yes\n",
      "125 JARAULI\n",
      "yes\n",
      "126 JATAURA\n",
      "yes\n",
      "176 KILHAUWA\n",
      "yes\n",
      "179 KOTRA\n",
      "yes\n",
      "187 MANKI\n",
      "yes\n",
      "129 MAWAIYA\n",
      "no\n",
      "130 MUDARI-KHAIRARIYA\n",
      "yes\n",
      "180 NAKRA (EW)\n",
      "no\n",
      "180 NAKRA (OW)\n",
      "no\n",
      "133 TELIPHAHARI\n"
     ]
    }
   ],
   "source": [
    "\n",
    "\n",
    "myKDTree = spatial.KDTree(final_depths[:,0:2])\n",
    "\n",
    "IND=[]\n",
    "replaced=[]\n",
    "for i,pt in enumerate(dfinal_depths[:,0:2]):\n",
    "    distance,index=myKDTree.query(pt)\n",
    "    if (distance<0.5) & (mvesdf['VES No.'].iloc[index] not in replaced):\n",
    "        print('yes')\n",
    "#         mvesdf=mvesdf.drop([index])\n",
    "#         mdata_dfs.pop(index)\n",
    "#         merge_final_depths.pop(index)\n",
    "        \n",
    "#         mvesdf.iloc[index]=dvesdf.iloc([i])\n",
    "        replaced.append(mvesdf['VES No.'].iloc[index])\n",
    "        print(mvesdf['VES No.'].iloc[index],dvesdf['Location'].iloc[i])\n",
    "        mdata_dfs[index]=drill_dfs[i]\n",
    "        merge_final_depths[index]=dfinal_depths[i]\n",
    "    else:\n",
    "        print('no')\n",
    "        print(mvesdf['VES No.'].iloc[index],dvesdf['Location'].iloc[i])\n",
    "#         mvesdf=mvesdf.append(dvesdf.iloc[i])\n",
    "#         mdata_dfs.append(drill_dfs[i])\n",
    "#         darray=final_depths[i]\n",
    "#         darray.shape=(1,len(darray))\n",
    "#         merge_final_depths=np.append(merge_final_depths,darray,axis=0)"
   ]
  },
  {
   "cell_type": "code",
   "execution_count": 72,
   "metadata": {},
   "outputs": [
    {
     "data": {
      "text/plain": [
       "((7,), (76, 7))"
      ]
     },
     "execution_count": 72,
     "metadata": {},
     "output_type": "execute_result"
    }
   ],
   "source": [
    "# vesdf=vesdf.drop([1])\n",
    "# vesdf\n",
    "# data_dfs.pop(0)\n",
    "# data_dfs\n",
    "final_depths[i].shape,merge_final_depths.shape"
   ]
  },
  {
   "cell_type": "code",
   "execution_count": 73,
   "metadata": {},
   "outputs": [
    {
     "data": {
      "text/plain": [
       "(array([ 0,  1,  2, 20], dtype=int64),\n",
       " array([0, 1, 2, 3], dtype=int64),\n",
       " {0: 'Soil/Dry soil/ Soil with kankars',\n",
       "  1: 'Weathered granite',\n",
       "  2: 'Hard massive granite'})"
      ]
     },
     "execution_count": 73,
     "metadata": {},
     "output_type": "execute_result"
    }
   ],
   "source": [
    "# final_depths[0],dfinal_depths[0],final_depths[:,0:2]\n",
    "unique_lbls,dunique_lbls,dlith_dict_summay"
   ]
  },
  {
   "cell_type": "code",
   "execution_count": 74,
   "metadata": {},
   "outputs": [],
   "source": [
    "len(merge_final_depths),len(mvesdf)\n",
    "\n",
    "np.save(base_folder+'merge_final_depths_labes_summary.npy',(merge_final_depths,unique_lbls,lith_dict_summay))\n",
    "save_pkl(base_folder+'merge_vesdf_datadf.pkl',(mvesdf,mdata_dfs))"
   ]
  },
  {
   "cell_type": "code",
   "execution_count": null,
   "metadata": {
    "collapsed": true
   },
   "outputs": [],
   "source": []
  }
 ],
 "metadata": {
  "kernelspec": {
   "display_name": "Python 3",
   "language": "python",
   "name": "python3"
  },
  "language_info": {
   "codemirror_mode": {
    "name": "ipython",
    "version": 3
   },
   "file_extension": ".py",
   "mimetype": "text/x-python",
   "name": "python",
   "nbconvert_exporter": "python",
   "pygments_lexer": "ipython3",
   "version": "3.6.1"
  }
 },
 "nbformat": 4,
 "nbformat_minor": 2
}

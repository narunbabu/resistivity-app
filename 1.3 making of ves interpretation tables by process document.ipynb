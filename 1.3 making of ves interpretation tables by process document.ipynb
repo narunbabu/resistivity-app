{
 "cells": [
  {
   "cell_type": "code",
   "execution_count": 1,
   "metadata": {
    "collapsed": true
   },
   "outputs": [],
   "source": [
    "from docx.oxml.ns import nsdecls\n",
    "from docx.oxml import parse_xml\n",
    "import copy\n",
    "from docx import Document\n",
    "import numpy as np\n",
    "import pandas as pd\n",
    "import pickle\n",
    "\n",
    "def shade_row(row,colorhx='8DB3E2'):    \n",
    "    shading_elm_1 = parse_xml(r'<w:shd {} w:fill=\"{}\"/>'.format(nsdecls('w'),colorhx))\n",
    "    for cell in row.cells:\n",
    "        cell._tc.get_or_add_tcPr().append(copy.copy(shading_elm_1))\n",
    "    return row\n",
    "def append_vestable(vestable,vesrow,df):\n",
    "    datarow = vestable.add_row()\n",
    "    datarow=shade_row(datarow,colorhx='8DB3E2')\n",
    "    # datarow= tdtable.rows[4]\n",
    "    datarow.cells[0].text=vesrow[7]\n",
    "    datarow.cells[1].text=str(vesrow[13])\n",
    "    for i in range(0,len(df)): \n",
    "        if i>0:\n",
    "            datarow = vestable.add_row()\n",
    "        datarow.cells[2].text=str(df['Depth_from'].iloc[i])\n",
    "        datarow.cells[3].text=str(df['Depth (m)'].iloc[i])\n",
    "        datarow.cells[4].text=str(df['Thickness(m)'].iloc[i])\n",
    "        datarow.cells[5].text=str(df['Resistivity(Ωm)'].iloc[i])\n",
    "        datarow.cells[6].text=df['Interpreted Lithology'].iloc[i]\n",
    "    vestable.style = 'Table Grid'\n",
    "    return vestable\n",
    "\n",
    "def load_pkl(file):\n",
    "    with open(file, 'rb') as f: \n",
    "        var = pickle.load(f)\n",
    "        f.close()\n",
    "    return var\n"
   ]
  },
  {
   "cell_type": "code",
   "execution_count": 158,
   "metadata": {
    "collapsed": true
   },
   "outputs": [],
   "source": [
    "base_folder=r'D:\\Ameyem Office\\Projects\\Electric surveys\\Easwar files\\jalaun\\\\'\n",
    "file=base_folder+'Jalaun VES Data & Graph_95[27229].docx'\n",
    "vesdf,data_dfs=load_pkl(base_folder+'vesdf_datadf.pkl')\n",
    "\n",
    "# document = Document(file)\n",
    "# tables = document.tables\n",
    "\n",
    "\n",
    "# for table in tables[1:2]:\n",
    "#     print(table)\n",
    "#     for row in table.rows:\n",
    "#         for cell in row.cells:\n",
    "#             for paragraph in cell.paragraphs:\n",
    "#                 print(paragraph.text)\n",
    "\n",
    "\n",
    "# template = new_document.tables[0]\n",
    "# tbl = template._tbl\n",
    "#  # Here we do the copy of the table\n",
    "# new_tbl = deepcopy(tbl)\n",
    "# # Then we do the replacement\n",
    "# replaceText(document, '<<VALUE_TO_FIND>>', 'New value')\n",
    "# paragraph = document.add_paragraph()\n",
    "# # After that, we add the previously copied table\n",
    "# paragraph._p.addnext(new_tbl)\n",
    "\n",
    "# "
   ]
  },
  {
   "cell_type": "code",
   "execution_count": 155,
   "metadata": {
    "collapsed": true
   },
   "outputs": [],
   "source": [
    "len(ddata),ddata\n",
    "data_dfs=[]\n",
    "for d in ddata:\n",
    "    data_dfs.append(pd.DataFrame(d,columns=hdata))\n",
    "data_dfs[0]\n",
    "\n",
    "# np.append(0,df['Depth (m)'].values[:-1].astype(np.float))\n",
    "# str_array2floats(df['Depth (m)'].values[:-1])\n",
    "\n",
    "\n",
    "for df in data_dfs:\n",
    "    df['Depth_from']=np.append(0,str_array2floats(df['Depth (m)'].values[:-1]))\n"
   ]
  },
  {
   "cell_type": "code",
   "execution_count": 156,
   "metadata": {},
   "outputs": [
    {
     "name": "stdout",
     "output_type": "stream",
     "text": [
      "\n",
      " For the block  DAKOR\n",
      "0, 1, 2, 3, 4, 5, 6, 7, 8, 9, 10, 11, 12, 13, 14, 15, 16, 17, 18, \n",
      " For the block  JALAUN\n",
      "0, 1, 2, 3, 4, 5, 6, 7, 8, 9, \n",
      " For the block  KADAURA\n",
      "0, 1, 2, 3, 4, 5, 6, 7, 8, 9, 10, 11, \n",
      " For the block  KONCH\n",
      "0, 1, 2, 3, 4, 5, 6, \n",
      " For the block  KUTHAUND\n",
      "0, 1, 2, 3, 4, 5, \n",
      " For the block  MADHOGANJ\n",
      "0, 1, 2, 3, \n",
      " For the block  MAHEVA\n",
      "0, 1, 2, 3, 4, 5, 6, 7, 8, 9, 10, 11, 12, 13, 14, 15, 16, 17, \n",
      " For the block  NADIGAON\n",
      "0, 1, 2, 3, 4, 5, 6, 7, 8, 9, 10, \n",
      " For the block  RAMPURA\n",
      "0, 1, 2, 3, 4, 5, 6, 7, Complete writing to new document\n"
     ]
    }
   ],
   "source": [
    "import copy\n",
    "new_document=Document()\n",
    "table_doc=Document(base_folder+'tables_format.docx')\n",
    "# for table in tables:\n",
    "#     f_row_f_cell_text=table.rows[0].cells[0].paragraphs[0].text\n",
    "#     if f_row_f_cell_text=='Layer No.' :\n",
    "#         paragraph = new_document.add_paragraph()\n",
    "# # After that, we add the previously copied table\n",
    "#         paragraph._p.addnext(table._tbl)\n",
    "    \n",
    "for block in np.unique(vesdf['Block'].values):\n",
    "    print('\\n For the block ',block)\n",
    "    paragraph1 = new_document.add_paragraph('Interpreted VES data of {} block'.format(block))\n",
    "    paragraph = new_document.add_paragraph()\n",
    "    vestable=copy.deepcopy(table_doc.tables[0])\n",
    "    i=0\n",
    "    for vesrow, df in zip(vesdf.values,data_dfs):\n",
    "        if (vesrow[0]==block):\n",
    "            print(i,end=', ')\n",
    "            vestable =append_vestable(vestable,vesrow,df)\n",
    "            i +=1\n",
    "    paragraph._p.addnext(vestable._tbl)\n",
    "    new_document.add_paragraph()\n",
    "new_document.save(base_folder+'interp_tables_n.docx')\n",
    "print('Complete writing to new document')"
   ]
  },
  {
   "cell_type": "code",
   "execution_count": null,
   "metadata": {
    "collapsed": true
   },
   "outputs": [],
   "source": [
    "new_document=Document()\n",
    "for table in tables:\n",
    "    f_row_f_cell_text=table.rows[0].cells[0].paragraphs[0].text\n",
    "    if f_row_f_cell_text=='Layer No.' :\n",
    "        paragraph = new_document.add_paragraph()\n",
    "# After that, we add the previously copied table\n",
    "        paragraph._p.addnext(table._tbl)"
   ]
  },
  {
   "cell_type": "code",
   "execution_count": 44,
   "metadata": {},
   "outputs": [
    {
     "name": "stdout",
     "output_type": "stream",
     "text": [
      "new\n",
      "new\n",
      "new\n",
      "new\n",
      "new\n",
      "new\n",
      "new\n"
     ]
    }
   ],
   "source": [
    "#interpreted VES table from data_dfs\n",
    "row = tbl.add_row()\n",
    "# row=tbl.rows[-2]\n",
    "for tcell in row.cells:\n",
    "    tcell.text='new'\n",
    "    print(tcell.text)\n",
    "tbl.style = 'Table Grid'"
   ]
  },
  {
   "cell_type": "code",
   "execution_count": 150,
   "metadata": {
    "collapsed": true
   },
   "outputs": [],
   "source": [
    "\n",
    "# shading_red_1 = docx.oxml.parse_xml(r'<w:shd {} w:fill=\"FF0000\"/>'.format(docx.oxml.ns.nsdecls('w')))\n",
    "\n",
    "\n",
    "\n",
    "# row.cells[1].text = 'Failure'\n",
    "# row.cells[1]._tc.get_or_add_tcPr.append(shading_red_1)\n",
    "\n",
    "# shading_red_2 = docx.oxml.parse_xml(r'<w:shd {} w:fill=\"FF0000\"/>'.format(docx.oxml.ns.nsdecls('w')))\n",
    "\n",
    "# row = table.add_row()\n",
    "\n",
    "# row.cells[1].text = 'Failure'\n",
    "# row.cells[1]._tc.get_or_add_tcPr().append(shading_red_2)\n",
    "# table_doc.save(base_folder+'interp_tables_n.docx')"
   ]
  },
  {
   "cell_type": "code",
   "execution_count": 99,
   "metadata": {},
   "outputs": [
    {
     "name": "stdout",
     "output_type": "stream",
     "text": [
      "<w:tc xmlns:w=\"http://schemas.openxmlformats.org/wordprocessingml/2006/main\" xmlns:wpc=\"http://schemas.microsoft.com/office/word/2010/wordprocessingCanvas\" xmlns:cx=\"http://schemas.microsoft.com/office/drawing/2014/chartex\" xmlns:cx1=\"http://schemas.microsoft.com/office/drawing/2015/9/8/chartex\" xmlns:cx2=\"http://schemas.microsoft.com/office/drawing/2015/10/21/chartex\" xmlns:cx3=\"http://schemas.microsoft.com/office/drawing/2016/5/9/chartex\" xmlns:cx4=\"http://schemas.microsoft.com/office/drawing/2016/5/10/chartex\" xmlns:cx5=\"http://schemas.microsoft.com/office/drawing/2016/5/11/chartex\" xmlns:cx6=\"http://schemas.microsoft.com/office/drawing/2016/5/12/chartex\" xmlns:cx7=\"http://schemas.microsoft.com/office/drawing/2016/5/13/chartex\" xmlns:cx8=\"http://schemas.microsoft.com/office/drawing/2016/5/14/chartex\" xmlns:mc=\"http://schemas.openxmlformats.org/markup-compatibility/2006\" xmlns:aink=\"http://schemas.microsoft.com/office/drawing/2016/ink\" xmlns:am3d=\"http://schemas.microsoft.com/office/drawing/2017/model3d\" xmlns:o=\"urn:schemas-microsoft-com:office:office\" xmlns:r=\"http://schemas.openxmlformats.org/officeDocument/2006/relationships\" xmlns:m=\"http://schemas.openxmlformats.org/officeDocument/2006/math\" xmlns:v=\"urn:schemas-microsoft-com:vml\" xmlns:wp14=\"http://schemas.microsoft.com/office/word/2010/wordprocessingDrawing\" xmlns:wp=\"http://schemas.openxmlformats.org/drawingml/2006/wordprocessingDrawing\" xmlns:w10=\"urn:schemas-microsoft-com:office:word\" xmlns:w14=\"http://schemas.microsoft.com/office/word/2010/wordml\" xmlns:w15=\"http://schemas.microsoft.com/office/word/2012/wordml\" xmlns:w16cid=\"http://schemas.microsoft.com/office/word/2016/wordml/cid\" xmlns:w16se=\"http://schemas.microsoft.com/office/word/2015/wordml/symex\" xmlns:wpg=\"http://schemas.microsoft.com/office/word/2010/wordprocessingGroup\" xmlns:wpi=\"http://schemas.microsoft.com/office/word/2010/wordprocessingInk\" xmlns:wne=\"http://schemas.microsoft.com/office/word/2006/wordml\" xmlns:wps=\"http://schemas.microsoft.com/office/word/2010/wordprocessingShape\">\n",
      "  <w:tcPr>\n",
      "    <w:tcW w:w=\"1551\" w:type=\"dxa\"/>\n",
      "    <w:tcBorders>\n",
      "      <w:top w:val=\"nil\"/>\n",
      "      <w:left w:val=\"single\" w:sz=\"8\" w:space=\"0\" w:color=\"auto\"/>\n",
      "      <w:bottom w:val=\"single\" w:sz=\"8\" w:space=\"0\" w:color=\"auto\"/>\n",
      "      <w:right w:val=\"single\" w:sz=\"8\" w:space=\"0\" w:color=\"auto\"/>\n",
      "    </w:tcBorders>\n",
      "    <w:shd w:val=\"clear\" w:color=\"000000\" w:fill=\"8DB3E2\"/>\n",
      "    <w:vAlign w:val=\"center\"/>\n",
      "    <w:hideMark/>\n",
      "  </w:tcPr>\n",
      "  <w:p>\n",
      "    <w:r>\n",
      "      <w:t>RAMPURA</w:t>\n",
      "    </w:r>\n",
      "  </w:p>\n",
      "</w:tc>\n",
      "\n",
      "<w:tc xmlns:w=\"http://schemas.openxmlformats.org/wordprocessingml/2006/main\" xmlns:wpc=\"http://schemas.microsoft.com/office/word/2010/wordprocessingCanvas\" xmlns:cx=\"http://schemas.microsoft.com/office/drawing/2014/chartex\" xmlns:cx1=\"http://schemas.microsoft.com/office/drawing/2015/9/8/chartex\" xmlns:cx2=\"http://schemas.microsoft.com/office/drawing/2015/10/21/chartex\" xmlns:cx3=\"http://schemas.microsoft.com/office/drawing/2016/5/9/chartex\" xmlns:cx4=\"http://schemas.microsoft.com/office/drawing/2016/5/10/chartex\" xmlns:cx5=\"http://schemas.microsoft.com/office/drawing/2016/5/11/chartex\" xmlns:cx6=\"http://schemas.microsoft.com/office/drawing/2016/5/12/chartex\" xmlns:cx7=\"http://schemas.microsoft.com/office/drawing/2016/5/13/chartex\" xmlns:cx8=\"http://schemas.microsoft.com/office/drawing/2016/5/14/chartex\" xmlns:mc=\"http://schemas.openxmlformats.org/markup-compatibility/2006\" xmlns:aink=\"http://schemas.microsoft.com/office/drawing/2016/ink\" xmlns:am3d=\"http://schemas.microsoft.com/office/drawing/2017/model3d\" xmlns:o=\"urn:schemas-microsoft-com:office:office\" xmlns:r=\"http://schemas.openxmlformats.org/officeDocument/2006/relationships\" xmlns:m=\"http://schemas.openxmlformats.org/officeDocument/2006/math\" xmlns:v=\"urn:schemas-microsoft-com:vml\" xmlns:wp14=\"http://schemas.microsoft.com/office/word/2010/wordprocessingDrawing\" xmlns:wp=\"http://schemas.openxmlformats.org/drawingml/2006/wordprocessingDrawing\" xmlns:w10=\"urn:schemas-microsoft-com:office:word\" xmlns:w14=\"http://schemas.microsoft.com/office/word/2010/wordml\" xmlns:w15=\"http://schemas.microsoft.com/office/word/2012/wordml\" xmlns:w16cid=\"http://schemas.microsoft.com/office/word/2016/wordml/cid\" xmlns:w16se=\"http://schemas.microsoft.com/office/word/2015/wordml/symex\" xmlns:wpg=\"http://schemas.microsoft.com/office/word/2010/wordprocessingGroup\" xmlns:wpi=\"http://schemas.microsoft.com/office/word/2010/wordprocessingInk\" xmlns:wne=\"http://schemas.microsoft.com/office/word/2006/wordml\" xmlns:wps=\"http://schemas.microsoft.com/office/word/2010/wordprocessingShape\">\n",
      "  <w:tcPr>\n",
      "    <w:tcW w:type=\"dxa\" w:w=\"1551\"/>\n",
      "  </w:tcPr>\n",
      "  <w:p/>\n",
      "</w:tc>\n",
      "\n"
     ]
    }
   ],
   "source": [
    "for cell in tdtable.rows[4].cells:\n",
    "    print(cell._tc.xml)\n",
    "    break\n",
    "for cell in tdtable.rows[-1].cells:\n",
    "    print(cell._tc.xml)\n",
    "    break"
   ]
  },
  {
   "cell_type": "code",
   "execution_count": 71,
   "metadata": {},
   "outputs": [
    {
     "data": {
      "text/plain": [
       "(array(['RAMPURA', '', '25/06/2018', 'E  W', 'JALAUN', '79.219558', 'DRY',\n",
       "        'TIHAR', 'Dr. R Srinivasa Chary', '26.351247',\n",
       "        'Geophysical Investigation for Aquifer Mapping (VES)  in Bundelkhand',\n",
       "        '129', '54 N/3', '216', '35m'], dtype=object),\n",
       "   Layer No. Resistivity(Ωm) Thickness(m) Depth (m)    Elev.  \\\n",
       " 0         1          23.925      0.34618   0.34618   128.65   \n",
       " 1         2          4.5875       1.1080    1.4541   127.55   \n",
       " 2         3          23.869       6.8560    8.3102   120.69   \n",
       " 3         4          12.165       143.54    151.85  -22.846   \n",
       " 4         5          1168.3           --        --       --   \n",
       " \n",
       "                  Interpreted Lithology  \n",
       " 0                         Top Dry soil  \n",
       " 1                                 Clay  \n",
       " 2                          Coarse Sand  \n",
       " 3  Sandy soil, may be under saturation  \n",
       " 4                            Hard Rock  )"
      ]
     },
     "execution_count": 71,
     "metadata": {},
     "output_type": "execute_result"
    }
   ],
   "source": [
    "# table_doc.save(base_folder+'interp_tables_n.docx')\n",
    "vesrow, df"
   ]
  },
  {
   "cell_type": "code",
   "execution_count": null,
   "metadata": {
    "collapsed": true
   },
   "outputs": [],
   "source": []
  }
 ],
 "metadata": {
  "kernelspec": {
   "display_name": "Python 3",
   "language": "python",
   "name": "python3"
  },
  "language_info": {
   "codemirror_mode": {
    "name": "ipython",
    "version": 3
   },
   "file_extension": ".py",
   "mimetype": "text/x-python",
   "name": "python",
   "nbconvert_exporter": "python",
   "pygments_lexer": "ipython3",
   "version": "3.6.1"
  }
 },
 "nbformat": 4,
 "nbformat_minor": 2
}

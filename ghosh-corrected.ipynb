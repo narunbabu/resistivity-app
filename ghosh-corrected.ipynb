{
 "cells": [
  {
   "cell_type": "code",
   "execution_count": 139,
   "metadata": {
    "collapsed": true
   },
   "outputs": [],
   "source": [
    "def VES1dmodYunus(r,t,X): # Yunus Levent Ekinci and Alper Demicri 2008\n",
    "    roa=np.zeros(len(X))\n",
    "#     for i in range(len(x)):\n",
    "#     #     s = x(i5);\n",
    "#         g = VES1dmod (r,t,x[i]);\n",
    "#         roa[i] = g;\n",
    "    q = 13;\n",
    "    f = 10;\n",
    "    m = 4.438;\n",
    "    x = 0;\n",
    "    e = np.exp(0.5*np.log(10)/m);\n",
    "    h = 2*q-2;\n",
    "\n",
    "    l = len(r)-1;\n",
    "    n = 1;    \n",
    "#     ares=[]\n",
    "    for si in range(len(X)):\n",
    "        a=np.zeros(n+h)\n",
    "        u = X[si]*np.exp(-f*np.log(10)/m-x);\n",
    "    #     print(n+h+1)\n",
    "        for i in range(0,n+h):\n",
    "            w = l;\n",
    "            v = r[l];\n",
    "            while w>0:\n",
    "                w = w-1;\n",
    "                aa = np.tanh(t[w]/u);fp\n",
    "                v = (v+r[w]*aa)/(1+v*aa/r[w]);\n",
    "\n",
    "            a[i]=v;\n",
    "            u = u*e;\n",
    "\n",
    "        i = 0;\n",
    "        g = 105*a[i]-262*a[i+2]+416*a[i+4]-746*a[i+6]+1605*a[i+8];\n",
    "        g = g-4390*a[i+10]+13396*a[i+12]-27841*a[i+14];\n",
    "        g = g+16448*a[i+16]+8183*a[i+18]+2525*a[i+20];\n",
    "        g = (g+336*a[i+22]+225*a[i+24])/10000;\n",
    "        roa[si]=g\n",
    "    return roa"
   ]
  },
  {
   "cell_type": "code",
   "execution_count": 140,
   "metadata": {},
   "outputs": [],
   "source": [
    "import numpy as np\n",
    "%matplotlib inline\n",
    "import matplotlib.pyplot as plt\n",
    "import pandas as pd"
   ]
  },
  {
   "cell_type": "code",
   "execution_count": 141,
   "metadata": {},
   "outputs": [],
   "source": [
    "\n",
    "# y=np.diff(np.log(OA)) # in ghosh transform y is log(u) and u is exp(y). Y is spacing of log distances\n",
    "# # y is close to 0.38 for the OA given in this example\n",
    "# u=np.exp(y) # u = 1.468 given y=0.38\n",
    "# # Number of layers (basement include):\n",
    "# nLayers = len(resistivities)\n",
    "\n",
    "# # ab2=pd.read_csv('ab2.dat',sep='\\t', header=None)\n",
    "# ab2=pd.read_csv('mahoba.dat',sep='\\t', header=None)\n",
    "# # np.subtract.outer(allsamp, x)\n"
   ]
  },
  {
   "cell_type": "code",
   "execution_count": 143,
   "metadata": {},
   "outputs": [],
   "source": [
    "# Computation of resistivity transform adapted from Koefoed (1970) by Ghosh (1971)\n",
    "def resistivityTransform(resistivities, thicknesses, OA) :\n",
    "    y=np.diff(np.log(OA))[0] # in ghosh transform y is log(u) and u is exp(y). Y is spacing of log distances\n",
    "    # y is close to 0.38 for the OA given in this example\n",
    "    u=np.exp(y) # u = 1.468 given y=0.38\n",
    "    # Number of layers (basement include):\n",
    "    nLayers = len(resistivities)\n",
    "    nSamples= len(OA)\n",
    "    # Resistivity transforms:\n",
    "    RT = []\n",
    "#     RT.length = nSamples;\n",
    "    \n",
    "#     T = []\n",
    "#     T.length = nSamples - 1;\n",
    "#     var index;\n",
    "    \n",
    "    for i in range(nSamples):\n",
    "        T=[]\n",
    "        index = 0;\n",
    "        K = (resistivities[nLayers-1] - resistivities[nLayers -2])/(resistivities[nLayers-1] + resistivities[nLayers-2])\n",
    "#         print(K)\n",
    "        T.append( resistivities[nLayers-2] * (1 + K * np.exp(-2*thicknesses[nLayers-2]/OA[i]))/(1 - K * np.exp(-2*thicknesses[nLayers-2]/OA[i])))\n",
    "        \n",
    "        for j in range(nLayers-3,-1,-1):\n",
    "            Tab = resistivities[j]*(1-np.exp(-2*thicknesses[j]/OA[i]))/(1+np.exp(-2*thicknesses[j]/OA[i]));\n",
    "#             index += 1;\n",
    "            T.append((Tab+T[-1])/(1+Tab*T[-1]/(resistivities[j]*resistivities[j])));\n",
    "        RT.append(T[-1]);\n",
    "    \n",
    "    return RT;\n",
    "\n",
    "\n",
    "# // Compute apparent resistivity curve using Ghosh's linear filter.\n",
    "# // Ghosh, D.P., 1971, Inverse filter coefficients for the computation of apparent resistivity, Geophysical Prospecting 19, 769-775\n",
    "def ghoshFilter(resistivities, thicknesses, OA):\n",
    "#     // Filter coefficients\n",
    "    b = [0.0225,-0.0499,0.1064,0.1854,1.9720,-1.5716,0.4018,-0.0814,0.0148]\n",
    "    \n",
    "#     // Compute resistivity transform\n",
    "    RT = resistivityTransform(resistivities, thicknesses, OA);\n",
    "    nSamples=len(OA)\n",
    "    print('RT Length= ',len(RT))\n",
    "#     // Compute apparent resistivities\n",
    "    apparentResisitivies = [];\n",
    "    apparentResisitivies = np.zeros(nSamples);\n",
    "    for i in range( 10,len(OA)-6):\n",
    "        apparentResisitivies[i] = 0;\n",
    "        for j in range(-3,6):\n",
    "            apparentResisitivies[i] += b[j+3]*RT[i-j*2]\n",
    "    return apparentResisitivies,RT\n",
    "\n",
    "\n",
    "def get_ghosh_ares(resistivities, thicknesses, OA):\n",
    "    \n",
    "    appRes,RT = ghoshFilter(resistivities, thicknesses, OA);\n",
    "    \n",
    "    apparentResistivities = [];\n",
    "    halfSpacing = [];\n",
    "    rt=[]\n",
    "    \n",
    "    for i in range(13,len(OA)):\n",
    "        apparentResistivities.append(appRes[i]);\n",
    "        halfSpacing.append(OA[i]);\n",
    "        rt.append(RT[i])\n",
    "    \n",
    "    \n",
    "    return np.array(halfSpacing), np.array(apparentResistivities),rt\n",
    "def find_nearest_indices(array, values):\n",
    "    indices = np.abs(np.subtract.outer(array, values)).argmin(0)\n",
    "    return indices\n",
    "\n",
    "def VES1dmodGhosh(resistivities, thicknesses,x):\n",
    "    allsamp=np.logspace(-0.5, 4.0, num=134)\n",
    "\n",
    "    dist1,ares1,rt=get_ghosh_ares(resistivities, thicknesses,allsamp)\n",
    "    indxs=find_nearest_indices(dist1, x)   \n",
    "#     dist=dist1[indxs]\n",
    "    ares=ares1[indxs]\n",
    "    return ares"
   ]
  },
  {
   "cell_type": "code",
   "execution_count": 144,
   "metadata": {},
   "outputs": [
    {
     "data": {
      "image/png": "[encoded data removed]",
      "text/plain": [
       "<matplotlib.figure.Figure at 0x25f98bab8d0>"
      ]
     },
     "metadata": {},
     "output_type": "display_data"
    }
   ],
   "source": [
    "def plot_ares(ab2):\n",
    "    plt.loglog(ab2[0],ab2[1],'*r', basex=10)\n",
    "    plt.grid(True)\n",
    "    plt.title('Apparent resisitivity log ')\n",
    "    plt.xlabel('Distance (m)')\n",
    "    plt.ylabel('Apparent Resistivity (ohm-m)')\n",
    "ab2=pd.read_csv('mahoba.dat',sep='\\t', header=None)\n",
    "ab2\n",
    "plot_ares(ab2)"
   ]
  },
  {
   "cell_type": "code",
   "execution_count": 148,
   "metadata": {},
   "outputs": [],
   "source": [
    "# x-dist1[indxs]\n",
    "\n",
    "# vals=[]\n",
    "# for num in range(60,200,1):\n",
    "#     allsamp=np.logspace(-0.5, 4.0, num=num)\n",
    "#     indxs=find_nearest_indices(allsamp, x)\n",
    "#     vals.append(np.sum(np.abs(allsamp[indxs]-x)))\n",
    "# print(np.array(vals))\n",
    "# x,dist1"
   ]
  },
  {
   "cell_type": "code",
   "execution_count": 146,
   "metadata": {},
   "outputs": [
    {
     "name": "stdout",
     "output_type": "stream",
     "text": [
      "RT Length=  134\n"
     ]
    },
    {
     "data": {
      "text/plain": [
       "(1, 10000)"
      ]
     },
     "execution_count": 146,
     "metadata": {},
     "output_type": "execute_result"
    },
    {
     "data": {
      "image/png": "[encoded data removed]",
      "text/plain": [
       "<matplotlib.figure.Figure at 0x25f987d59b0>"
      ]
     },
     "metadata": {},
     "output_type": "display_data"
    }
   ],
   "source": [
    "resistivities=[20,40,15,620]\n",
    "thicknesses=[1.2,12,120]\n",
    "\n",
    "np.set_printoptions(precision=2,suppress=True)\n",
    "\n",
    "\n",
    "\n",
    "x = ab2[0].values;\n",
    "x=np.append(x,[450, 650, 950, 1400, 2000, 3000, 4500, 6500])\n",
    "\n",
    "\n",
    "# for num in range(60,200,2):\n",
    "#     allsamp=np.logspace(-0.5, 3.0, num=num)\n",
    "#     indxs=find_nearest_indices(allsamp, x)\n",
    "#     print('{}: {}'.format(num,np.sum(np.abs(allsamp[indxs]-x))))\n",
    "aresG=VES1dmodGhosh(resistivities, thicknesses,x)\n",
    "aresY=VES1dmodYunus(resistivities, thicknesses,x)\n",
    "# plt.plot(dist,ares)\n",
    "plt.subplots_adjust(hspace=0.4)\n",
    "\n",
    "# log x and y axis\n",
    "plt.subplot(111)\n",
    "plt.loglog(x,aresY,'*r', basex=10)\n",
    "# plt.loglog(dist,rt,'*g', basex=10)\n",
    "plt.loglog(x,aresG,'.b', basex=10)\n",
    "plt.grid(True)\n",
    "plt.title('loglog ')\n",
    "plt.xlim(1,10000)\n",
    "plt.ylim(1,10000)\n",
    "# print(np.abs(allsamp[indxs]-x))\n",
    "# # allsamp[indxs],x,len(allsamp[allsamp<=310]),allsamp\n",
    "# len(allsamp[allsamp<=310])+6,find_nearest_indices(allsamp, x[:1])\n"
   ]
  },
  {
   "cell_type": "code",
   "execution_count": 92,
   "metadata": {},
   "outputs": [
    {
     "name": "stdout",
     "output_type": "stream",
     "text": [
      "RT Length=  44\n",
      "31\n"
     ]
    },
    {
     "data": {
      "image/png": "[encoded data removed]",
      "text/plain": [
       "<matplotlib.figure.Figure at 0x25f98b0ad68>"
      ]
     },
     "metadata": {},
     "output_type": "display_data"
    }
   ],
   "source": [
    "resistivities=[20,40,130,15,620,30,4500]\n",
    "thicknesses=[1.2,12,40,60,15,300]\n",
    "# AB/2 spacing:\n",
    "OA =     [0.0139790406440197, 0.0205184256193513, 0.0301169300968417, 0.0442056079391693, 0.0648849589579011, 0.0952380952380952, 0.139790406440197, 0.205184256193513, 0.301169300968417, 0.442056079391693, 0.648849589579011, 0.952380952380952, 1.39790406440197, 2.05184256193513, 3.01169300968417, 4.42056079391693, 6.48849589579011, 9.52380952380952, 13.9790406440197, 20.5184256193513, 30.1169300968417, 44.2056079391693, 64.8849589579011, 95.2380952380952, 139.790406440197, 205.184256193513, 301.169300968417, 442.056079391693, 648.849589579011, 952.380952380952, 1397.90406440197, 2051.84256193513, 3011.69300968417, 4420.56079391693, 6488.49589579011, 9523.80952380952, 13979.0406440197, 20518.4256193513, 30116.9300968417, 44205.6079391693, 64884.9589579011, 95238.0952380952, 139790.406440197, 205184.256193513];\n",
    "\n",
    "dist,ares,rt=get_ghosh_ares(resistivities, thicknesses,OA)\n",
    "\n",
    "ares2=VES1dmod(resistivities, thicknesses,OA)\n",
    "# plt.plot(dist,ares)\n",
    "plt.subplots_adjust(hspace=0.4)\n",
    "\n",
    "# log x and y axis\n",
    "plt.subplot(111)\n",
    "plt.loglog(dist,ares,'*r', basex=10)\n",
    "# plt.loglog(dist,rt,'*g', basex=10)\n",
    "plt.loglog(OA[13:],ares2[13:],'.b', basex=10)\n",
    "plt.grid(True)\n",
    "plt.title('loglog ')\n",
    "print(len(dist))"
   ]
  },
  {
   "cell_type": "code",
   "execution_count": 35,
   "metadata": {},
   "outputs": [
    {
     "data": {
      "text/plain": [
       "(0.38376418216567654,\n",
       " 1.4677992676220728,\n",
       " 0.38376418216567648,\n",
       " 0.38376418216567432)"
      ]
     },
     "execution_count": 35,
     "metadata": {},
     "output_type": "execute_result"
    }
   ],
   "source": [
    "# What is y and u in resistivity transform\n",
    "y=np.diff(np.log(OA))[0] # in ghosh transform y is log(u) and u is exp(y). Y is spacing of log distances\n",
    "y\n",
    "u=np.exp(y)\n",
    "y,u,np.log(u),(1/6)*np.log(10)"
   ]
  },
  {
   "cell_type": "code",
   "execution_count": 95,
   "metadata": {},
   "outputs": [
    {
     "data": {
      "text/plain": [
       "[[24.617457751611447, 23.804602630868487],\n",
       " [27.076305366690352, 26.891640144230621],\n",
       " [29.682162562234371, 30.424990153730324],\n",
       " [32.512919263769533, 33.832944011342661],\n",
       " [36.187013359187389, 37.128403287454638],\n",
       " [41.493110062370661, 41.087791829279794],\n",
       " [48.632631666278591, 46.98684147499462],\n",
       " [56.358539584549042, 55.548692812194396],\n",
       " [61.764577501862995, 65.623175407011686],\n",
       " [62.510671367038789, 73.441101518371624],\n",
       " [59.568071687408668, 73.561129850704901],\n",
       " [55.766116551953687, 64.197049982597662],\n",
       " [52.813968585750388, 52.301240931157615],\n",
       " [51.53311688713805, 46.934671400764437],\n",
       " [53.449364859398983, 49.273461313433423],\n",
       " [60.78925199106542, 56.30669325937383],\n",
       " [75.914275199540526, 69.694664519156674],\n",
       " [101.51998099058636, 94.674480684697244],\n",
       " [141.21551907291374, 135.12454845372952],\n",
       " [200.0345865936367, 194.29290604320309],\n",
       " [284.77694140046287, 277.81841178342097],\n",
       " [404.07944193118124, 394.41488939906537],\n",
       " [567.95129005810611, 555.12175180878137]]"
      ]
     },
     "execution_count": 95,
     "metadata": {},
     "output_type": "execute_result"
    }
   ],
   "source": [
    "[[r, a] for r,a in zip(rt ,ares)]"
   ]
  },
  {
   "cell_type": "code",
   "execution_count": null,
   "metadata": {
    "collapsed": true
   },
   "outputs": [],
   "source": []
  }
 ],
 "metadata": {
  "kernelspec": {
   "display_name": "Python 3",
   "language": "python",
   "name": "python3"
  },
  "language_info": {
   "codemirror_mode": {
    "name": "ipython",
    "version": 3
   },
   "file_extension": ".py",
   "mimetype": "text/x-python",
   "name": "python",
   "nbconvert_exporter": "python",
   "pygments_lexer": "ipython3",
   "version": "3.6.1"
  }
 },
 "nbformat": 4,
 "nbformat_minor": 2
}
